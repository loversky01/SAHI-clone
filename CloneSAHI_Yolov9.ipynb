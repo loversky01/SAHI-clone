{
 "cells": [
  {
   "cell_type": "code",
   "execution_count": 1,
   "metadata": {
    "colab": {
     "base_uri": "https://localhost:8080/"
    },
    "id": "WoDQ3p6_yofz",
   },
   "source": [
   ]
  },
  {
   "cell_type": "code",
   "metadata": {
    "colab": {
     "base_uri": "https://localhost:8080/"
    },
    "id": "zY2Vv8t3zJQ1",
   },
   "outputs": [
    {
     "output_type": "stream",
     "text": [
     ]
    }
   "source": [
   "metadata": {
    "id": "AW02WLjh0-59"
   },
  },
  {
   "cell_type": "code",
   "source": [
    "import cv2\n",
    "import matplotlib.pyplot as plt\n",
    "from ultralytics import YOLO\n",
    "import numpy as np\n",
    "\n",
    "from improved_yolo_SAHI_clone import (\n",
    "    visualize_results_usual_yolo_inference,\n",
    ")"
  },
  {
   "cell_type": "code",
   "metadata": {
    "colab": {
     "base_uri": "https://localhost:8080/",
    },
    "id": "dzD2ZGeV1Qn8",
   },
   "outputs": [
    {
     "data": {
      "text/plain": [
       "<Figure size 640x480 with 1 Axes>"
     },
    }
   ]
  },
  {
   "cell_type": "code",
   "metadata": {
    "colab": {
     "base_uri": "https://localhost:8080/",
    },
   },
   "outputs": [
    {
     "data": {
      "text/plain": [
      ]
     },
     "metadata": {},
    }
   "source": [
    "# Define the parameters\n",
    "imgsz = 640\n",
    "conf = 0.5\n",
    "iou = 0.7\n",
    "\n",
    "# Load the YOLOv9 model\n",
    "model = YOLO(\"yolov9e.pt\")  # Make sure the model file is in the correct path\n",
    "\n",
    "visualize_results_usual_yolo_inference(\n",
    "    img,\n",
    "    model,\n",
    "    imgsz,\n",
    "    conf,\n",
    "    iou,\n",
    "    segment=False,\n",
    "    delta_colors=3,\n",
    "    thickness=2,\n",
    "    font_scale=0.5,\n",
    "    show_boxes=True,\n",
    "    fill_mask=False,\n",
    "    alpha=0.3,\n",
    "    random_object_colors=False,\n",
    "    show_confidences=True,\n",
    ")"
   "metadata": {
    "colab": {
     "base_uri": "https://localhost:8080/",
    },
   },
   "outputs": [
    {
     "data": {
      "text/plain": [
       "<Figure size 1200x1200 with 1 Axes>"
     },
    }
   ]
  }
}